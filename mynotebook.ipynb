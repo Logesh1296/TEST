{
 "cells": [
  {
   "cell_type": "markdown",
   "id": "ceb50695-d5dc-47a8-8cc4-799d2bd1b639",
   "metadata": {},
   "source": [
    "MYNOTEBOOK"
   ]
  },
  {
   "cell_type": "markdown",
   "id": "745e2d73-feb4-4d6d-be23-e2fb21c93d87",
   "metadata": {},
   "source": [
    "THIS NOTEBOOK INTRODUCES YOU TO THE FIELD OF DATA SCIENCE"
   ]
  },
  {
   "cell_type": "markdown",
   "id": "c64e93a5-d2d6-4a82-8096-a233d61a8406",
   "metadata": {},
   "source": [
    "Data science involves various programming languages that cater to different aspects of data analysis, machine learning, and visualization. Below is a list of popular languages used in data science:\n",
    "\n",
    "1. Python  \n",
    "2. R  \n",
    "3. Julia  \n",
    "4. SQL  \n",
    "5. Scala\n"
   ]
  },
  {
   "cell_type": "markdown",
   "id": "75899c49-b995-47b9-abd2-5064f8724958",
   "metadata": {},
   "source": [
    "Data science uses a variety of libraries to handle data manipulation, statistical analysis, and visualization. Below is a list of popular libraries used in data science:\n",
    "\n",
    "1. NumPy  \n",
    "2. Pandas  \n",
    "3. Matplotlib  \n",
    "4. Seaborn  \n",
    "5. Scikit-learn\n"
   ]
  },
  {
   "cell_type": "markdown",
   "id": "0b92bed3-233a-4eaa-8c8a-8395034b7970",
   "metadata": {},
   "source": [
    "The following table lists some widely used tools in Data Science, along with their primary purposes:\n",
    "\n",
    "| Tool            | Purpose                                         |\n",
    "|-----------------|-------------------------------------------------|\n",
    "| Jupyter Notebook| Interactive coding, visualization, and sharing |\n",
    "| RStudio         | R programming IDE for data analysis            |\n",
    "| Tableau         | Data visualization and dashboard creation      |\n",
    "| Apache Spark    | Big data processing and analytics              |\n",
    "| Power BI        | Business intelligence and data visualization   |\n"
   ]
  },
  {
   "cell_type": "markdown",
   "id": "041a0661-ca0e-4439-b8bd-c1cd9329bae8",
   "metadata": {},
   "source": [
    "Arithmetic expressions are used to perform mathematical calculations using operators such as addition, subtraction, multiplication, and division.\n"
   ]
  },
  {
   "cell_type": "code",
   "execution_count": 1,
   "id": "e4b3208f-fa40-47c1-a439-24cb398cc3b8",
   "metadata": {},
   "outputs": [
    {
     "name": "stdout",
     "output_type": "stream",
     "text": [
      "Multiplication result: 15\n",
      "Addition result: 8\n"
     ]
    }
   ],
   "source": [
    "# Multiply and add integers\n",
    "a = 5\n",
    "b = 3\n",
    "\n",
    "# Multiplication\n",
    "product = a * b\n",
    "\n",
    "# Addition\n",
    "sum_result = a + b\n",
    "\n",
    "print(\"Multiplication result:\", product)\n",
    "print(\"Addition result:\", sum_result)\n"
   ]
  },
  {
   "cell_type": "code",
   "execution_count": 2,
   "id": "cb185104-074e-4cb6-ab1b-9ec96f7758cf",
   "metadata": {},
   "outputs": [
    {
     "name": "stdin",
     "output_type": "stream",
     "text": [
      "Enter the number of minutes:  560\n"
     ]
    },
    {
     "name": "stdout",
     "output_type": "stream",
     "text": [
      "560 minutes is equal to 9.333333333333334 hours.\n"
     ]
    }
   ],
   "source": [
    "# Program to convert minutes to hours\n",
    "\n",
    "# Get input from the user\n",
    "minutes = int(input(\"Enter the number of minutes: \"))\n",
    "\n",
    "# Convert to hours\n",
    "hours = minutes / 60\n",
    "\n",
    "# Display the result\n",
    "print(f\"{minutes} minutes is equal to {hours} hours.\")\n"
   ]
  },
  {
   "cell_type": "markdown",
   "id": "0c9bfd00-54b7-4952-b480-aa6747b1eed9",
   "metadata": {},
   "source": [
    "The objectives of learning Data Science are as follows:\n",
    "\n",
    "- Understand and analyze large datasets\n",
    "- Develop predictive models\n",
    "- Visualize data effectively\n",
    "- Communicate insights to stakeholders\n",
    "- Apply data-driven decision-making\n"
   ]
  },
  {
   "cell_type": "markdown",
   "id": "efb02a0d-4de2-4bc4-a8d6-3c400018b258",
   "metadata": {},
   "source": [
    "**Author:** Logesh S"
   ]
  },
  {
   "cell_type": "code",
   "execution_count": null,
   "id": "6b5d84f2-00ad-4d90-9a84-e18daaec8893",
   "metadata": {},
   "outputs": [],
   "source": []
  }
 ],
 "metadata": {
  "kernelspec": {
   "display_name": "Python 3 (ipykernel)",
   "language": "python",
   "name": "python3"
  },
  "language_info": {
   "codemirror_mode": {
    "name": "ipython",
    "version": 3
   },
   "file_extension": ".py",
   "mimetype": "text/x-python",
   "name": "python",
   "nbconvert_exporter": "python",
   "pygments_lexer": "ipython3",
   "version": "3.12.7"
  }
 },
 "nbformat": 4,
 "nbformat_minor": 5
}
