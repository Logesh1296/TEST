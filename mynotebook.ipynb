{
 "cells": [
  {
   "cell_type": "markdown",
   "id": "4718edcf-13aa-41b7-bab9-3362095de039",
   "metadata": {},
   "source": [
    "mynotebook"
   ]
  },
  {
   "cell_type": "markdown",
   "id": "68606c88-f015-47e3-a185-732bdc82e402",
   "metadata": {},
   "source": [
    "Data Science: This block introduces you to data science"
   ]
  },
  {
   "cell_type": "markdown",
   "id": "e6ee4339-e5c1-4883-8cfb-7586ed97ca05",
   "metadata": {},
   "source": [
    "DATA SCIENCE LANGUAGES:\n",
    "R\n",
    "Python\n",
    "Scala\n",
    "Java"
   ]
  },
  {
   "cell_type": "markdown",
   "id": "c9ad22b4-afa9-4c9f-9b11-cdc857306155",
   "metadata": {},
   "source": [
    "DATA SCIENCE LIBRARIES: \n",
    "ggplot\n",
    "caret\n",
    "tensorflow\n",
    "matplotlib"
   ]
  },
  {
   "cell_type": "markdown",
   "id": "c3eb358c-34f8-45b5-babd-dbce033fbb46",
   "metadata": {},
   "source": [
    "DATA SCIENCE TOOLS:\n",
    "Weka\n",
    "PowerBI\n",
    "Apache Spark\n",
    "hadoop\n",
    "cassandra\n",
    "DynamicDB"
   ]
  },
  {
   "cell_type": "code",
   "execution_count": 7,
   "id": "7fe668ae-9525-48d9-ac41-a0de19642093",
   "metadata": {},
   "outputs": [],
   "source": [
    "#ARITHMETIC EXAMPLES\n",
    "a=10\n",
    "b=5\n",
    "c=a+b"
   ]
  },
  {
   "cell_type": "code",
   "execution_count": 9,
   "id": "581b9f05-e8da-4e64-8161-cf88a3578b06",
   "metadata": {},
   "outputs": [
    {
     "name": "stdout",
     "output_type": "stream",
     "text": [
      "15 50\n"
     ]
    }
   ],
   "source": [
    "a=10\n",
    "b=5\n",
    "c=a+b\n",
    "d=a*b\n",
    "print(c,d)"
   ]
  },
  {
   "cell_type": "code",
   "execution_count": null,
   "id": "c21602f0-0072-4947-9625-05ee3d7015a9",
   "metadata": {},
   "outputs": [],
   "source": [
    "a=int(input(\"ENter minutes: \"))\n",
    "b=a/60\n",
    "print(b,'hrs')"
   ]
  },
  {
   "cell_type": "markdown",
   "id": "819375e5-6627-4020-8370-2c0367af5c36",
   "metadata": {},
   "source": [
    "OBJECTIVES OF DATA SCIENCE /n\n",
    "DATA SCIENCE HELPS EXPLORE THE VAST VOLUMES, VARSITY, VELOCITY OF DATA GENERATED EVERY DAY AND OBTAIN USEFUL AND MEANINGFUL INSIGHTS."
   ]
  },
  {
   "cell_type": "markdown",
   "id": "b9995941-deeb-4c80-9213-5ae904cbdea7",
   "metadata": {},
   "source": [
    "AUTHOR'S name: LOGESH S"
   ]
  },
  {
   "cell_type": "code",
   "execution_count": null,
   "id": "0c531e2c-8e70-4421-bd7d-9b7aa7242986",
   "metadata": {},
   "outputs": [],
   "source": []
  }
 ],
 "metadata": {
  "kernelspec": {
   "display_name": "Python 3 (ipykernel)",
   "language": "python",
   "name": "python3"
  },
  "language_info": {
   "codemirror_mode": {
    "name": "ipython",
    "version": 3
   },
   "file_extension": ".py",
   "mimetype": "text/x-python",
   "name": "python",
   "nbconvert_exporter": "python",
   "pygments_lexer": "ipython3",
   "version": "3.12.7"
  }
 },
 "nbformat": 4,
 "nbformat_minor": 5
}
